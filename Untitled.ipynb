{
 "cells": [
  {
   "cell_type": "code",
   "execution_count": 1,
   "id": "f8209fee-6a7d-4ef2-9807-4ba16c046f0d",
   "metadata": {},
   "outputs": [
    {
     "name": "stdout",
     "output_type": "stream",
     "text": [
      "hello world\n"
     ]
    }
   ],
   "source": [
    "def hello():\n",
    "  return('hello world')\n",
    "\n",
    "print(hello())"
   ]
  },
  {
   "cell_type": "code",
   "execution_count": 2,
   "id": "46c8a338-2f0c-47a0-b80c-92756dce2767",
   "metadata": {},
   "outputs": [
    {
     "name": "stdout",
     "output_type": "stream",
     "text": [
      "+ Calling hello...\n",
      "  + Defining hello!\n",
      "+ hello returned Hello World!\n"
     ]
    },
    {
     "data": {
      "text/plain": [
       "'Hello World!'"
      ]
     },
     "execution_count": 2,
     "metadata": {},
     "output_type": "execute_result"
    }
   ],
   "source": [
    "def better():\n",
    "  def hello():\n",
    "    print(\"  + Defining hello!\")\n",
    "    return('hello world')\n",
    "  print(\"+ Calling hello...\")\n",
    "  rv = hello().title() + \"!\"\n",
    "  print(f\"+ hello returned {rv}\")\n",
    "  return(rv)\n",
    "\n",
    "better()"
   ]
  },
  {
   "cell_type": "code",
   "execution_count": 6,
   "id": "841b5a33-8b71-4a2c-b6e5-9054599503f6",
   "metadata": {},
   "outputs": [
    {
     "name": "stdout",
     "output_type": "stream",
     "text": [
      "The average sales figure is: 170.0\n",
      "Week 1 average sales: 170.0\n",
      "Week 2 average sales: 180.0\n"
     ]
    }
   ],
   "source": [
    "def calculate_average(data):  # Step 1: Define the function to calculate the average\n",
    "    return sum(data) / len(data)  # Step 2: Calculate and return the average\n",
    "\n",
    "sales_data = [100, 200, 150, 175, 225]  # Example data\n",
    "average_sales = calculate_average(sales_data)  # Call the function to get the average\n",
    "print(f\"The average sales figure is: {average_sales}\")  # Print the result\n",
    "\n",
    "week1_sales = [100, 200, 150, 175, 225]\n",
    "week2_sales = [120, 210, 160, 180, 230]\n",
    "\n",
    "print(f\"Week 1 average sales: {calculate_average(week1_sales)}\")\n",
    "print(f\"Week 2 average sales: {calculate_average(week2_sales)}\")"
   ]
  },
  {
   "cell_type": "code",
   "execution_count": 7,
   "id": "4d23b1a8-edb0-4cf4-b4d6-e5d70d439ea5",
   "metadata": {},
   "outputs": [
    {
     "data": {
      "text/plain": [
       "'I am 0000000013'"
      ]
     },
     "execution_count": 7,
     "metadata": {},
     "output_type": "execute_result"
    }
   ],
   "source": [
    "Name = \"Adam\"\n",
    "number = 13\n",
    "f\"I am {number:010}\"\n"
   ]
  }
 ],
 "metadata": {
  "kernelspec": {
   "display_name": "Python (base)",
   "language": "python",
   "name": "base"
  },
  "language_info": {
   "codemirror_mode": {
    "name": "ipython",
    "version": 3
   },
   "file_extension": ".py",
   "mimetype": "text/x-python",
   "name": "python",
   "nbconvert_exporter": "python",
   "pygments_lexer": "ipython3",
   "version": "3.11.9"
  }
 },
 "nbformat": 4,
 "nbformat_minor": 5
}
