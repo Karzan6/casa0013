{
 "cells": [
  {
   "cell_type": "code",
   "execution_count": 1,
   "id": "784d2165-4575-46af-854d-d943f956c1d4",
   "metadata": {},
   "outputs": [],
   "source": [
    "geographers = [\"Massey\", \"Harvey\", \"Rose\"]"
   ]
  },
  {
   "cell_type": "code",
   "execution_count": 3,
   "id": "873878cf-87b6-4469-9a31-a41509b99788",
   "metadata": {},
   "outputs": [
    {
     "name": "stdout",
     "output_type": "stream",
     "text": [
      "Harvey\n",
      "Rose\n",
      "Rose\n"
     ]
    }
   ],
   "source": [
    "print(geographers[1]) # Harvey\n",
    "print(geographers[2]) # Rose\n",
    "print(geographers[2]) # Error: List index out of range"
   ]
  },
  {
   "cell_type": "code",
   "execution_count": 4,
   "id": "be6c5a30-3c99-4b08-919f-df25d946220c",
   "metadata": {},
   "outputs": [
    {
     "name": "stdout",
     "output_type": "stream",
     "text": [
      "Rose\n",
      "Harvey\n"
     ]
    }
   ],
   "source": [
    "geographers = [\"Massey\", \"Harvey\", \"Rose\"]\n",
    "print( geographers[-1] ) # Rose\n",
    "print( geographers[-2] ) # Harvey\n"
   ]
  },
  {
   "cell_type": "code",
   "execution_count": 5,
   "id": "ddb24c57-5847-4e0c-a7a4-0c94487c3bb8",
   "metadata": {},
   "outputs": [
    {
     "name": "stdout",
     "output_type": "stream",
     "text": [
      "Last employee added: ['Eva', 'Marketing', [45000, 'Project V']]\n",
      "Last employee's project: Project V\n"
     ]
    }
   ],
   "source": [
    "employees = [\n",
    "    ['Alice', 'HR', [50000, 'Project X']],\n",
    "    ['Bob', 'Engineering', [70000, 'Project Y']],\n",
    "    ['Charlie', 'Engineering', [65000, 'Project Z']],\n",
    "    ['Diana', 'HR', [55000, 'Project W']],\n",
    "]\n",
    "\n",
    "# Add a new employee (Name, Department, [Salary, Project])\n",
    "employees.append(['Eva', 'Marketing', [45000, 'Project V']])\n",
    "\n",
    "# Access the last employee added using negative indexing\n",
    "last_employee = employees[-1]\n",
    "\n",
    "# Print the last employee's data\n",
    "print(f\"Last employee added: {last_employee}\")\n",
    "\n",
    "# Access the last employee's project using double negative indexing\n",
    "last_employee_project = employees[-1][-1][-1]\n",
    "\n",
    "print(f\"Last employee's project: {last_employee_project}\")\n",
    "\n"
   ]
  },
  {
   "cell_type": "code",
   "execution_count": null,
   "id": "11e80ce6-20a7-4811-b3fb-72a95394e90d",
   "metadata": {},
   "outputs": [],
   "source": []
  }
 ],
 "metadata": {
  "kernelspec": {
   "display_name": "Python (base)",
   "language": "python",
   "name": "base"
  },
  "language_info": {
   "codemirror_mode": {
    "name": "ipython",
    "version": 3
   },
   "file_extension": ".py",
   "mimetype": "text/x-python",
   "name": "python",
   "nbconvert_exporter": "python",
   "pygments_lexer": "ipython3",
   "version": "3.11.9"
  }
 },
 "nbformat": 4,
 "nbformat_minor": 5
}
